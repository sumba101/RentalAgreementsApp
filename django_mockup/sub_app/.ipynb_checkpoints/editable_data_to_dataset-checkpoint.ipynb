{
 "cells": [
  {
   "cell_type": "code",
   "execution_count": 1,
   "id": "774d0a8a",
   "metadata": {},
   "outputs": [],
   "source": [
    "import os\n",
    "import json\n",
    "import pandas as pd"
   ]
  },
  {
   "cell_type": "code",
   "execution_count": 2,
   "id": "88147e27",
   "metadata": {},
   "outputs": [],
   "source": [
    "editable_data_dir = os.path.join('data', 'editable-data')\n",
    "dataset_dir = os.path.join('data', 'dataset')"
   ]
  },
  {
   "cell_type": "code",
   "execution_count": 3,
   "id": "c78f3fac",
   "metadata": {},
   "outputs": [],
   "source": [
    "def make_clauses_dict(input_dir=editable_data_dir, output_dir=dataset_dir):\n",
    "    with open(os.path.join(input_dir, 'clause-list.txt'), 'r') as f:\n",
    "        formal_list_content = f.read()\n",
    "    \n",
    "    clause_id_dict = dict()\n",
    "    for split in formal_list_content.strip().split('\\n\\n'):\n",
    "        clause_id, clause = split.strip().split('\\n')\n",
    "        clause_id = int(clause_id.strip())\n",
    "        clause = clause.strip()\n",
    "        clause_id_dict[clause_id] = clause\n",
    "        \n",
    "    if not os.path.exists(dataset_dir):\n",
    "        os.makedirs(dataset_dir)\n",
    "\n",
    "    with open(os.path.join(output_dir, 'clauses.json'), 'w') as f:\n",
    "        json.dump(clause_id_dict, f)\n",
    "    \n",
    "    return clause_id_dict"
   ]
  },
  {
   "cell_type": "code",
   "execution_count": 4,
   "id": "9ca2ceeb",
   "metadata": {},
   "outputs": [],
   "source": [
    "def make_query_clause_dataset(clause_id_dict, input_dir=editable_data_dir, output_dir=dataset_dir):\n",
    "    query_clause_dir = os.path.join(input_dir, 'query-clause')\n",
    "    files = os.listdir(query_clause_dir)\n",
    "    files.sort(key=lambda f : int(f[:-4]))\n",
    "    query_clause_dicts = list()\n",
    "\n",
    "    for file in files:\n",
    "        with open(os.path.join(query_clause_dir, file), 'r') as f:\n",
    "            query_clause_content = f.read().strip()\n",
    "\n",
    "        valid_splits = list()\n",
    "        for split in query_clause_content.split('\\n'):\n",
    "            split = split.strip()\n",
    "            if split:\n",
    "                valid_splits.append(split)\n",
    "\n",
    "        clause_id = int(valid_splits[0])\n",
    "        queries = valid_splits[2:]\n",
    "\n",
    "        for i, query in enumerate(queries):\n",
    "            query_clause_dict = dict()\n",
    "            query_clause_dict['id'] = clause_id * 100 + i\n",
    "            query_clause_dict['clause_id'] = clause_id\n",
    "            query_clause_dict['query'] = query\n",
    "            query_clause_dict['clause'] = clause_id_dict[clause_id]\n",
    "            query_clause_dicts.append(query_clause_dict)\n",
    "            \n",
    "    with open(os.path.join(output_dir, 'query-to-clause.jsonl'), 'w') as f:\n",
    "        for query_clause_dict in query_clause_dicts:\n",
    "            query_clause_string = json.dumps(query_clause_dict)\n",
    "            f.write(query_clause_string + '\\n')\n",
    "        \n",
    "    return query_clause_dicts"
   ]
  },
  {
   "cell_type": "code",
   "execution_count": 5,
   "id": "5fd428cc",
   "metadata": {},
   "outputs": [],
   "source": [
    "def make_dataset(input_dir=editable_data_dir, output_dir=dataset_dir):\n",
    "    clause_id_dict = make_clauses_dict(input_dir, output_dir)\n",
    "    query_clause_dicts = make_query_clause_dataset(clause_id_dict, input_dir, output_dir)\n",
    "    \n",
    "    return clause_id_dict, query_clause_dicts"
   ]
  },
  {
   "cell_type": "code",
   "execution_count": 6,
   "id": "5cc5a98e",
   "metadata": {},
   "outputs": [],
   "source": [
    "def load_clauses_dict(dataset_dir=dataset_dir):\n",
    "    with open(os.path.join(dataset_dir, 'clauses.json'), 'r') as f:\n",
    "        clauses_dict = json.load(f)\n",
    "        \n",
    "    return clauses_dict"
   ]
  },
  {
   "cell_type": "code",
   "execution_count": 7,
   "id": "3905bf89",
   "metadata": {},
   "outputs": [],
   "source": [
    "def load_query_clause_dataset(dataset_dir=dataset_dir, as_pandas=True):\n",
    "    with open(os.path.join(dataset_dir, 'query-to-clause.jsonl'), 'r') as f:\n",
    "        query_clauses = pd.read_json(f, lines=True) if as_pandas else json.load(f)\n",
    "    \n",
    "    return query_clauses"
   ]
  },
  {
   "cell_type": "code",
   "execution_count": 13,
   "id": "2707085a",
   "metadata": {},
   "outputs": [],
   "source": [
    "def load_dataset(dataset_dir=dataset_dir, query_clause_as_pandas=True):\n",
    "    clauses_dict = load_clauses_dict(dataset_dir)\n",
    "    query_clauses = load_query_clause_dataset(dataset_dir, as_pandas=query_clause_as_pandas)\n",
    "    \n",
    "    return clauses_dict, query_clauses"
   ]
  },
  {
   "cell_type": "code",
   "execution_count": 14,
   "id": "ae58083e",
   "metadata": {},
   "outputs": [
    {
     "data": {
      "text/plain": [
       "(45, 45)"
      ]
     },
     "execution_count": 14,
     "metadata": {},
     "output_type": "execute_result"
    }
   ],
   "source": [
    "clauses_dict, query_clauses = make_dataset()\n",
    "len(clauses_dict.keys()), len(query_clauses)"
   ]
  },
  {
   "cell_type": "code",
   "execution_count": 15,
   "id": "09b2d37f",
   "metadata": {},
   "outputs": [
    {
     "data": {
      "text/html": [
       "<div>\n",
       "<style scoped>\n",
       "    .dataframe tbody tr th:only-of-type {\n",
       "        vertical-align: middle;\n",
       "    }\n",
       "\n",
       "    .dataframe tbody tr th {\n",
       "        vertical-align: top;\n",
       "    }\n",
       "\n",
       "    .dataframe thead th {\n",
       "        text-align: right;\n",
       "    }\n",
       "</style>\n",
       "<table border=\"1\" class=\"dataframe\">\n",
       "  <thead>\n",
       "    <tr style=\"text-align: right;\">\n",
       "      <th></th>\n",
       "      <th>id</th>\n",
       "      <th>clause_id</th>\n",
       "      <th>query</th>\n",
       "      <th>clause</th>\n",
       "    </tr>\n",
       "  </thead>\n",
       "  <tbody>\n",
       "    <tr>\n",
       "      <th>0</th>\n",
       "      <td>100</td>\n",
       "      <td>1</td>\n",
       "      <td>Remove any major changes to house before leaving.</td>\n",
       "      <td>The tenant shall at the termination of this ag...</td>\n",
       "    </tr>\n",
       "    <tr>\n",
       "      <th>1</th>\n",
       "      <td>200</td>\n",
       "      <td>2</td>\n",
       "      <td>Take license if you're carrying out business.</td>\n",
       "      <td>The tenant shall himself obtain the license fo...</td>\n",
       "    </tr>\n",
       "    <tr>\n",
       "      <th>2</th>\n",
       "      <td>300</td>\n",
       "      <td>3</td>\n",
       "      <td>I won't provide any insurance or security cover.</td>\n",
       "      <td>All kinds of security arrangements insurances ...</td>\n",
       "    </tr>\n",
       "    <tr>\n",
       "      <th>3</th>\n",
       "      <td>400</td>\n",
       "      <td>4</td>\n",
       "      <td>Stay good with neighbors.</td>\n",
       "      <td>The tenant shall keep good relationship with n...</td>\n",
       "    </tr>\n",
       "    <tr>\n",
       "      <th>4</th>\n",
       "      <td>500</td>\n",
       "      <td>5</td>\n",
       "      <td>The house is in good condition, as you agree w...</td>\n",
       "      <td>The tenant acknowledges that the premises are ...</td>\n",
       "    </tr>\n",
       "  </tbody>\n",
       "</table>\n",
       "</div>"
      ],
      "text/plain": [
       "    id  clause_id                                              query  \\\n",
       "0  100          1  Remove any major changes to house before leaving.   \n",
       "1  200          2      Take license if you're carrying out business.   \n",
       "2  300          3   I won't provide any insurance or security cover.   \n",
       "3  400          4                          Stay good with neighbors.   \n",
       "4  500          5  The house is in good condition, as you agree w...   \n",
       "\n",
       "                                              clause  \n",
       "0  The tenant shall at the termination of this ag...  \n",
       "1  The tenant shall himself obtain the license fo...  \n",
       "2  All kinds of security arrangements insurances ...  \n",
       "3  The tenant shall keep good relationship with n...  \n",
       "4  The tenant acknowledges that the premises are ...  "
      ]
     },
     "execution_count": 15,
     "metadata": {},
     "output_type": "execute_result"
    }
   ],
   "source": [
    "clauses_dict, query_clauses = load_dataset()\n",
    "query_clauses.head()"
   ]
  },
  {
   "cell_type": "code",
   "execution_count": null,
   "id": "21b680d9",
   "metadata": {},
   "outputs": [],
   "source": []
  }
 ],
 "metadata": {
  "kernelspec": {
   "display_name": "Python 3",
   "language": "python",
   "name": "python3"
  },
  "language_info": {
   "codemirror_mode": {
    "name": "ipython",
    "version": 3
   },
   "file_extension": ".py",
   "mimetype": "text/x-python",
   "name": "python",
   "nbconvert_exporter": "python",
   "pygments_lexer": "ipython3",
   "version": "3.8.5"
  }
 },
 "nbformat": 4,
 "nbformat_minor": 5
}
